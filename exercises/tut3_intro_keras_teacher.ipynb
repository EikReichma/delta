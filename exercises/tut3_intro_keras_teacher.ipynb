{
 "cells": [
  {
   "cell_type": "markdown",
   "metadata": {},
   "source": [
    "# Tutorial 3: An Introduction to Keras\n",
    "This tutorial covers \n",
    "- [What's Keras?](#sec-1)\n",
    "- [Example: Regression problem](#sec-2)"
   ]
  },
  {
   "cell_type": "markdown",
   "metadata": {},
   "source": [
    "## What's Keras? <a class=\"anchor\" id=\"sec-1\"></a>\n",
    "Keras ([https://keras.io](https://keras.io)) is a deep learning API for Python. It is built on top of Tensorflow ([https://www.tensorflow.org/](https://www.tensorflow.org/)), and its primary purpose is to enable fast experimentation by offering simple workflows. Keras is great for learning and will suffice for many applied deep learning projects.\n",
    "\n",
    "TensorFlow is one of the most popular and powerful deep learning frameworks, but its use is more complicated when compared to Keras. For ADAMS, simplicity rules and matters more than the greater flexibility Tensorflow or other popular frameworks like [PyTorch](https://pytorch.org/), [MXNet](https://mxnet.apache.org/) have to offer. \n",
    "\n",
    "Let's start with Keras. To that end, we will first present the anatomy of Neural Networks from Keras's perspective. Then, we will illustrate its use with a regression example and let you get your hands-on with a multiclass classification exercise. "
   ]
  },
  {
   "cell_type": "markdown",
   "metadata": {},
   "source": [
    "### Keras's perspective\n",
    "In Keras, the main class is the `Layer`. A layer is a module that transforms tensors, like LEGO bricks. The type of the layer depends on the tensor format and the type of data. For example, \n",
    "- Rank-2 tensor (samples, features) &rarr; dense layer (`Dense`).\n",
    "- Rank-3 tensor, such as sequence data, (samples, time, features) &rarr; recurrent layer (`LSTM`, `Conv1D`).\n",
    "- Rank-4 tensor, e.g. images &rarr; 2D convolution layer (`Conv2D`).\n",
    "\n",
    "`Layers` are assembled into the `Model` class. A deep learning model is not more than a graph of layers. For example, a model can be a stack of layers mapping a single input to a single output. That corresponds to the subclass of `Model` called `Sequential` in Keras. For example,\n",
    "\n",
    "```python\n",
    "model = keras.Sequential([\n",
    "    layers.Dense(64, activation=\"relu\"),\n",
    "    layers.Dense(64, activation=\"relu\"),\n",
    "    layers.Dense(1) # it does not have activation (linear layer by default)\n",
    "])\n",
    "```\n",
    "\n",
    "However, as long as we dive further in the course, we will find other network topologies, including two-branch networks, residual connections, etc. \n",
    "\n",
    "Before training your model, you will need to decide\n",
    "- which `optimizer` (`RMSprop`, `SGD`, etc.) you to use, \n",
    "- which `loss` function is adequate for the problem (`MeanSquaredError`, `CategoricalCrossentropy`, etc.), and \n",
    "- what `metrics` you want to monitor (`MAE`, `Accuracy`, etc.). \n",
    "\n",
    "All three are specified through the `compile()` method. \n",
    "\n",
    "Next, you'll use the `fit()` method to train the model. This method implements the loop itself, and its key arguments are the `data`, the number of `epochs`, and the `batch` size. Here we can also monitor the loss and metrics on the `validation` data.\n",
    "\n",
    "Finally, when the model is trained, we want to use it in new data. To this end, we use the method `predict()` to generate predictions on new data."
   ]
  },
  {
   "cell_type": "markdown",
   "metadata": {},
   "source": [
    "## Example: Regression problem <a class=\"anchor\" id=\"sec-2\"></a>\n",
    "Let's learn how to use Keras with an example. The idea is to predict the median value of owner-occupied homes (in thousands of dollars) in a Boston suburb, given features such as crime rate, the average number of rooms, and so forth. We structure the task in 5 steps:\n",
    "1. Get the dataset.\n",
    "2. Prepare the data for the training. Here we transform the data to be suitable for a neural network.\n",
    "3. Build the model. We create the layers (`Dense` layer), graph (`Sequential` model) and compile the model (`compile()`).\n",
    "4. Validate the approach. We commonly use training and validation sets to tune our model (`fit()`). Then, retrain the model with the fine-tuned parameters and evaluate the model in the test set.\n",
    "5. Make predictions on a new dataset. Commonly on the test set (`predict()`)."
   ]
  },
  {
   "cell_type": "markdown",
   "metadata": {},
   "source": [
    "### 1. Get the dataset\n",
    "Let's load the data"
   ]
  },
  {
   "cell_type": "code",
   "execution_count": 29,
   "metadata": {},
   "outputs": [],
   "source": [
    "from tensorflow.keras.datasets import boston_housing\n",
    "import numpy as np\n",
    "# this will split the data 80-20% by default\n",
    "(x_train, y_train), (x_test, y_test) = boston_housing.load_data()\n",
    "# if you want to try out different options, do the following\n",
    "# import tensorflow as tf\n",
    "# (x_train, y_train), (x_test, y_test) = tf.keras.datasets.boston_housing.load_data(path=\"boston_housing.npz\", test_split=0.2, seed=113)"
   ]
  },
  {
   "cell_type": "code",
   "execution_count": 30,
   "metadata": {},
   "outputs": [
    {
     "name": "stdout",
     "output_type": "stream",
     "text": [
      "Shape of train data: (404, 13) \n",
      "Shape of test data: (102, 13)\n"
     ]
    }
   ],
   "source": [
    "# Let's take a look at the shape of the data\n",
    "print('Shape of train data:',x_train.shape,\n",
    "'\\nShape of test data:', x_test.shape)"
   ]
  },
  {
   "cell_type": "code",
   "execution_count": 31,
   "metadata": {},
   "outputs": [
    {
     "data": {
      "text/html": [
       "<div>\n",
       "<style scoped>\n",
       "    .dataframe tbody tr th:only-of-type {\n",
       "        vertical-align: middle;\n",
       "    }\n",
       "\n",
       "    .dataframe tbody tr th {\n",
       "        vertical-align: top;\n",
       "    }\n",
       "\n",
       "    .dataframe thead th {\n",
       "        text-align: right;\n",
       "    }\n",
       "</style>\n",
       "<table border=\"1\" class=\"dataframe\">\n",
       "  <thead>\n",
       "    <tr style=\"text-align: right;\">\n",
       "      <th></th>\n",
       "      <th>0</th>\n",
       "      <th>1</th>\n",
       "      <th>2</th>\n",
       "      <th>3</th>\n",
       "      <th>4</th>\n",
       "      <th>5</th>\n",
       "      <th>6</th>\n",
       "      <th>7</th>\n",
       "      <th>8</th>\n",
       "      <th>9</th>\n",
       "      <th>10</th>\n",
       "      <th>11</th>\n",
       "      <th>12</th>\n",
       "    </tr>\n",
       "  </thead>\n",
       "  <tbody>\n",
       "    <tr>\n",
       "      <th>count</th>\n",
       "      <td>404.000000</td>\n",
       "      <td>404.000000</td>\n",
       "      <td>404.000000</td>\n",
       "      <td>404.000000</td>\n",
       "      <td>404.000000</td>\n",
       "      <td>404.000000</td>\n",
       "      <td>404.000000</td>\n",
       "      <td>404.000000</td>\n",
       "      <td>404.000000</td>\n",
       "      <td>404.000000</td>\n",
       "      <td>404.000000</td>\n",
       "      <td>404.000000</td>\n",
       "      <td>404.000000</td>\n",
       "    </tr>\n",
       "    <tr>\n",
       "      <th>mean</th>\n",
       "      <td>3.745111</td>\n",
       "      <td>11.480198</td>\n",
       "      <td>11.104431</td>\n",
       "      <td>0.061881</td>\n",
       "      <td>0.557356</td>\n",
       "      <td>6.267082</td>\n",
       "      <td>69.010644</td>\n",
       "      <td>3.740271</td>\n",
       "      <td>9.440594</td>\n",
       "      <td>405.898515</td>\n",
       "      <td>18.475990</td>\n",
       "      <td>354.783168</td>\n",
       "      <td>12.740817</td>\n",
       "    </tr>\n",
       "    <tr>\n",
       "      <th>std</th>\n",
       "      <td>9.240734</td>\n",
       "      <td>23.767711</td>\n",
       "      <td>6.811308</td>\n",
       "      <td>0.241238</td>\n",
       "      <td>0.117293</td>\n",
       "      <td>0.709788</td>\n",
       "      <td>27.940665</td>\n",
       "      <td>2.030215</td>\n",
       "      <td>8.698360</td>\n",
       "      <td>166.374543</td>\n",
       "      <td>2.200382</td>\n",
       "      <td>94.111148</td>\n",
       "      <td>7.254545</td>\n",
       "    </tr>\n",
       "    <tr>\n",
       "      <th>min</th>\n",
       "      <td>0.006320</td>\n",
       "      <td>0.000000</td>\n",
       "      <td>0.460000</td>\n",
       "      <td>0.000000</td>\n",
       "      <td>0.385000</td>\n",
       "      <td>3.561000</td>\n",
       "      <td>2.900000</td>\n",
       "      <td>1.129600</td>\n",
       "      <td>1.000000</td>\n",
       "      <td>188.000000</td>\n",
       "      <td>12.600000</td>\n",
       "      <td>0.320000</td>\n",
       "      <td>1.730000</td>\n",
       "    </tr>\n",
       "    <tr>\n",
       "      <th>25%</th>\n",
       "      <td>0.081437</td>\n",
       "      <td>0.000000</td>\n",
       "      <td>5.130000</td>\n",
       "      <td>0.000000</td>\n",
       "      <td>0.453000</td>\n",
       "      <td>5.874750</td>\n",
       "      <td>45.475000</td>\n",
       "      <td>2.077100</td>\n",
       "      <td>4.000000</td>\n",
       "      <td>279.000000</td>\n",
       "      <td>17.225000</td>\n",
       "      <td>374.672500</td>\n",
       "      <td>6.890000</td>\n",
       "    </tr>\n",
       "    <tr>\n",
       "      <th>50%</th>\n",
       "      <td>0.268880</td>\n",
       "      <td>0.000000</td>\n",
       "      <td>9.690000</td>\n",
       "      <td>0.000000</td>\n",
       "      <td>0.538000</td>\n",
       "      <td>6.198500</td>\n",
       "      <td>78.500000</td>\n",
       "      <td>3.142300</td>\n",
       "      <td>5.000000</td>\n",
       "      <td>330.000000</td>\n",
       "      <td>19.100000</td>\n",
       "      <td>391.250000</td>\n",
       "      <td>11.395000</td>\n",
       "    </tr>\n",
       "    <tr>\n",
       "      <th>75%</th>\n",
       "      <td>3.674808</td>\n",
       "      <td>12.500000</td>\n",
       "      <td>18.100000</td>\n",
       "      <td>0.000000</td>\n",
       "      <td>0.631000</td>\n",
       "      <td>6.609000</td>\n",
       "      <td>94.100000</td>\n",
       "      <td>5.118000</td>\n",
       "      <td>24.000000</td>\n",
       "      <td>666.000000</td>\n",
       "      <td>20.200000</td>\n",
       "      <td>396.157500</td>\n",
       "      <td>17.092500</td>\n",
       "    </tr>\n",
       "    <tr>\n",
       "      <th>max</th>\n",
       "      <td>88.976200</td>\n",
       "      <td>100.000000</td>\n",
       "      <td>27.740000</td>\n",
       "      <td>1.000000</td>\n",
       "      <td>0.871000</td>\n",
       "      <td>8.725000</td>\n",
       "      <td>100.000000</td>\n",
       "      <td>10.710300</td>\n",
       "      <td>24.000000</td>\n",
       "      <td>711.000000</td>\n",
       "      <td>22.000000</td>\n",
       "      <td>396.900000</td>\n",
       "      <td>37.970000</td>\n",
       "    </tr>\n",
       "  </tbody>\n",
       "</table>\n",
       "</div>"
      ],
      "text/plain": [
       "               0           1           2           3           4           5   \\\n",
       "count  404.000000  404.000000  404.000000  404.000000  404.000000  404.000000   \n",
       "mean     3.745111   11.480198   11.104431    0.061881    0.557356    6.267082   \n",
       "std      9.240734   23.767711    6.811308    0.241238    0.117293    0.709788   \n",
       "min      0.006320    0.000000    0.460000    0.000000    0.385000    3.561000   \n",
       "25%      0.081437    0.000000    5.130000    0.000000    0.453000    5.874750   \n",
       "50%      0.268880    0.000000    9.690000    0.000000    0.538000    6.198500   \n",
       "75%      3.674808   12.500000   18.100000    0.000000    0.631000    6.609000   \n",
       "max     88.976200  100.000000   27.740000    1.000000    0.871000    8.725000   \n",
       "\n",
       "               6           7           8           9           10          11  \\\n",
       "count  404.000000  404.000000  404.000000  404.000000  404.000000  404.000000   \n",
       "mean    69.010644    3.740271    9.440594  405.898515   18.475990  354.783168   \n",
       "std     27.940665    2.030215    8.698360  166.374543    2.200382   94.111148   \n",
       "min      2.900000    1.129600    1.000000  188.000000   12.600000    0.320000   \n",
       "25%     45.475000    2.077100    4.000000  279.000000   17.225000  374.672500   \n",
       "50%     78.500000    3.142300    5.000000  330.000000   19.100000  391.250000   \n",
       "75%     94.100000    5.118000   24.000000  666.000000   20.200000  396.157500   \n",
       "max    100.000000   10.710300   24.000000  711.000000   22.000000  396.900000   \n",
       "\n",
       "               12  \n",
       "count  404.000000  \n",
       "mean    12.740817  \n",
       "std      7.254545  \n",
       "min      1.730000  \n",
       "25%      6.890000  \n",
       "50%     11.395000  \n",
       "75%     17.092500  \n",
       "max     37.970000  "
      ]
     },
     "execution_count": 31,
     "metadata": {},
     "output_type": "execute_result"
    }
   ],
   "source": [
    "# Let's take a look at the features\n",
    "import pandas as pd\n",
    "pd.DataFrame(x_train).describe()"
   ]
  },
  {
   "cell_type": "markdown",
   "metadata": {},
   "source": [
    "The descriptions of the features are the following (more details about this dataset can be found in [http://lib.stat.cmu.edu/datasets/boston](http://lib.stat.cmu.edu/datasets/boston))\n",
    "| # | Variable | Description |\n",
    "|---|---|---|\n",
    "| 1 | CRIM | per capita crime rate by town |\n",
    "| 2 | ZN | proportion of residential land zoned for lots over 25,000 sq.ft. |\n",
    "| 3 | INDUS | proportion of non-retail business acres per town |\n",
    "| 4 | CHAS | Charles River dummy variable (= 1 if tract bounds river; 0 otherwise) |\n",
    "| 5 | NOX | nitric oxides concentration (parts per 10 million) |\n",
    "| 6 | RM | average number of rooms per dwelling |\n",
    "| 7 | AGE | proportion of owner-occupied units built prior to 1940 |\n",
    "| 8 | DIS | weighted distances to five Boston employment centres |\n",
    "| 9 | RAD | index of accessibility to radial highways |\n",
    "| 10 | TAX | full-value property-tax rate per $10,000 |\n",
    "| 11 | PTRATIO | pupil-teacher ratio by town |\n",
    "| 12 | B | 1000(Bk - 0.63)^2 where Bk is the proportion of blacks by town |\n",
    "| 13 | LSTAT | % lower status of the population |\n",
    "\n",
    "So, we have 404 samples to train and 102 to test, each with 13 numerical features. The target is the median values of homes. Let's have a quick look at them"
   ]
  },
  {
   "cell_type": "code",
   "execution_count": 4,
   "metadata": {},
   "outputs": [
    {
     "data": {
      "image/png": "[encoded data removed]",
      "text/plain": [
       "<Figure size 700x300 with 1 Axes>"
      ]
     },
     "metadata": {},
     "output_type": "display_data"
    }
   ],
   "source": [
    "#Plot the values of the target variable: \n",
    "import matplotlib.pyplot as plt\n",
    "plt.rcParams['figure.figsize']=7,3\n",
    "plt.hist(y_train)\n",
    "plt.show()"
   ]
  },
  {
   "cell_type": "markdown",
   "metadata": {},
   "source": [
    "### 2. Data preparation\n",
    "We saw that `x_train` takes different ranges. This is problematic for neural networks, so a common practice is to standardize each feature."
   ]
  },
  {
   "cell_type": "code",
   "execution_count": 5,
   "metadata": {},
   "outputs": [],
   "source": [
    "#Feature rescaling:\n",
    "#Get the mean and the standard deviation of each feature on your train dataset:\n",
    "num_val_samples = int(len(x_train)*0.25)\n",
    "\n",
    "x_tr=x_train[:-num_val_samples]\n",
    "y_tr=y_train[:-num_val_samples]\n",
    "\n",
    "x_val = x_train[-num_val_samples:]\n",
    "y_val = y_train[-num_val_samples:]\n",
    "\n",
    "\n",
    "\n",
    "mean_train = x_tr.mean(axis=0) # axis 0, along the rows or column-wise operation\n",
    "std_train = x_tr.std(axis=0)\n",
    "\n",
    "#Rescale train dataset by subtracting the mean (so that each feature has a mean of 0 after that)\n",
    "#and by dividing by the standard deviation (so that each feature has a standard deviation of 1.0 after that)\n",
    "x_tr_rescaled =(x_tr- mean_train)/std_train\n",
    "# apply this very same transformation to the validation set and the test set (never compute means and stds on validation and test set!)\n",
    "x_val_rescaled=(x_val- mean_train)/std_train\n",
    "x_test_rescaled=(x_test-mean_train)/std_train"
   ]
  },
  {
   "cell_type": "code",
   "execution_count": 6,
   "metadata": {},
   "outputs": [
    {
     "name": "stdout",
     "output_type": "stream",
     "text": [
      "Shape train data:  (303, 13)\n",
      "Shape validation data:  (101, 13)\n",
      "Shape test data:  (102, 13)\n"
     ]
    }
   ],
   "source": [
    "print('Shape train data: ',x_tr_rescaled.shape)\n",
    "print('Shape validation data: ',x_val_rescaled.shape)\n",
    "print('Shape test data: ',x_test.shape)"
   ]
  },
  {
   "cell_type": "code",
   "execution_count": 7,
   "metadata": {},
   "outputs": [
    {
     "name": "stdout",
     "output_type": "stream",
     "text": [
      "Means of train features:  [-0.  0.  0.  0.  0.  0.  0.  0.  0. -0.  0.  0. -0.]\n",
      "Standard deviation of train features:  [1. 1. 1. 1. 1. 1. 1. 1. 1. 1. 1. 1. 1.]\n"
     ]
    }
   ],
   "source": [
    "print('Means of train features: ',np.around(x_tr_rescaled.mean(axis=0),3))\n",
    "print('Standard deviation of train features: ',np.around(x_tr_rescaled.std(axis=0),3))"
   ]
  },
  {
   "cell_type": "code",
   "execution_count": 8,
   "metadata": {},
   "outputs": [
    {
     "name": "stdout",
     "output_type": "stream",
     "text": [
      "Means of validation features:  [-0.153 -0.014 -0.123  0.162 -0.158  0.126 -0.244  0.082 -0.063 -0.032\n",
      " -0.105  0.152 -0.196]\n",
      "Standard deviation of validation features:  [0.614 1.028 0.964 1.274 0.908 1.113 1.033 0.934 0.976 0.94  0.991 0.748\n",
      " 0.974]\n"
     ]
    }
   ],
   "source": [
    "print('Means of validation features: ',np.around(x_val_rescaled.mean(axis=0),3))\n",
    "print('Standard deviation of validation features: ',np.around(x_val_rescaled.std(axis=0),3))"
   ]
  },
  {
   "cell_type": "code",
   "execution_count": 9,
   "metadata": {},
   "outputs": [
    {
     "name": "stdout",
     "output_type": "stream",
     "text": [
      "Means of test features:  [-0.103 -0.028 -0.007  0.202 -0.15   0.158 -0.14   0.152  0.046  0.061\n",
      " -0.072  0.132 -0.109]\n",
      "Standard deviation of test features:  [0.534 0.911 1.028 1.33  0.916 0.973 1.05  1.15  0.999 1.047 0.917 0.792\n",
      " 0.917]\n"
     ]
    }
   ],
   "source": [
    "print('Means of test features: ',np.around(x_test_rescaled.mean(axis=0),3))\n",
    "print('Standard deviation of test features: ',np.around(x_test_rescaled.std(axis=0),3))"
   ]
  },
  {
   "cell_type": "markdown",
   "metadata": {},
   "source": [
    "Due to slightly different distribution of the fatures in the validation and the test dataset, when we rescale it using the means and the standard deviations computed on the train set, we get rescaled validation and test features, the mean and standard deviation of which is not exactly 0.0 and 1.0, respectively. **Is this a problem?**\n"
   ]
  },
  {
   "cell_type": "markdown",
   "metadata": {},
   "source": [
    "**Should we also rescale the target variable?**"
   ]
  },
  {
   "cell_type": "code",
   "execution_count": 10,
   "metadata": {},
   "outputs": [],
   "source": [
    "#mean_train_target=y_train.mean()\n",
    "#std_train_target=y_train.std()\n",
    "\n",
    "#y_train_rescaled=(y_train-mean_train_target)/std_train_target\n",
    "#y_test_rescaled=(y_test-mean_train_target)/std_train_target"
   ]
  },
  {
   "cell_type": "markdown",
   "metadata": {},
   "source": [
    "### 3. Building the model\n",
    "We are ready to build our model. Since the sample size is small, two layers with 64 units will be enough to avoid overfitting. We use ReLU as the non-linearity. "
   ]
  },
  {
   "cell_type": "code",
   "execution_count": 11,
   "metadata": {},
   "outputs": [],
   "source": [
    "from tensorflow import keras\n",
    "from tensorflow.keras import layers\n",
    "#Build the model:\n",
    "model = keras.Sequential()\n",
    "model.add(layers.Dense(64, activation=\"relu\",kernel_initializer='he_normal'))\n",
    "model.add(layers.Dense(64, activation=\"relu\",kernel_initializer='he_normal'))\n",
    "model.add(layers.Dense(1))#without specifying the activation function we implictly choose linear"
   ]
  },
  {
   "cell_type": "markdown",
   "metadata": {},
   "source": [
    "We compile our model using `Adam` as the optimization algorithm. Of course, there are many other alternatives for the `optimizer`, such as `SGD`, `Adagrad`, `Adadelta`, etc. (see [https://keras.io/api/optimizers/](https://keras.io/api/optimizers/)).\n",
    "\n",
    "We use the Mean Square Error as the loss (`mse`) (see [https://keras.io/api/losses/](https://keras.io/api/losses/) for other alternatives). We also track the Mean Absolute Error (`mae`) defined in `metrics`. "
   ]
  },
  {
   "cell_type": "code",
   "execution_count": 12,
   "metadata": {},
   "outputs": [],
   "source": [
    "#compile the model:\n",
    "model.compile(optimizer='Adam', \n",
    "    loss='mse', # mean squared error, widely used for regression problems\n",
    "    metrics=['mae']) # we are also monitoring the mean absolute error "
   ]
  },
  {
   "cell_type": "markdown",
   "metadata": {},
   "source": [
    "### 4. Validate the approach\n",
    "In this step, we fit the model and we use the train set and the validation set we created earlier."
   ]
  },
  {
   "cell_type": "code",
   "execution_count": 13,
   "metadata": {
    "scrolled": true
   },
   "outputs": [
    {
     "name": "stdout",
     "output_type": "stream",
     "text": [
      "Epoch 1/100\n",
      "19/19 [==============================] - 1s 9ms/step - loss: 418.4333 - mae: 18.3859 - val_loss: 436.1189 - val_mae: 18.6535\n",
      "Epoch 2/100\n",
      "19/19 [==============================] - 0s 3ms/step - loss: 271.1007 - mae: 14.2470 - val_loss: 259.9025 - val_mae: 13.9379\n",
      "Epoch 3/100\n",
      "19/19 [==============================] - 0s 2ms/step - loss: 144.1244 - mae: 9.8744 - val_loss: 114.0145 - val_mae: 8.3146\n",
      "Epoch 4/100\n",
      "19/19 [==============================] - 0s 3ms/step - loss: 67.3649 - mae: 6.3213 - val_loss: 63.7813 - val_mae: 6.2869\n",
      "Epoch 5/100\n",
      "19/19 [==============================] - 0s 2ms/step - loss: 45.6028 - mae: 5.0146 - val_loss: 53.7720 - val_mae: 5.6695\n",
      "Epoch 6/100\n",
      "19/19 [==============================] - 0s 2ms/step - loss: 36.7319 - mae: 4.3953 - val_loss: 43.7507 - val_mae: 4.9749\n",
      "Epoch 7/100\n",
      "19/19 [==============================] - 0s 3ms/step - loss: 30.9437 - mae: 4.0120 - val_loss: 36.3929 - val_mae: 4.4776\n",
      "Epoch 8/100\n",
      "19/19 [==============================] - 0s 3ms/step - loss: 27.0964 - mae: 3.7452 - val_loss: 32.5796 - val_mae: 4.1232\n",
      "Epoch 9/100\n",
      "19/19 [==============================] - 0s 3ms/step - loss: 24.5617 - mae: 3.5201 - val_loss: 29.4051 - val_mae: 3.9271\n",
      "Epoch 10/100\n",
      "19/19 [==============================] - 0s 3ms/step - loss: 22.4949 - mae: 3.3874 - val_loss: 26.9391 - val_mae: 3.7455\n",
      "Epoch 11/100\n",
      "19/19 [==============================] - 0s 2ms/step - loss: 20.5588 - mae: 3.2415 - val_loss: 25.6965 - val_mae: 3.5945\n",
      "Epoch 12/100\n",
      "19/19 [==============================] - 0s 3ms/step - loss: 19.1714 - mae: 3.1326 - val_loss: 23.8463 - val_mae: 3.5020\n",
      "Epoch 13/100\n",
      "19/19 [==============================] - 0s 2ms/step - loss: 17.9722 - mae: 3.0216 - val_loss: 22.7732 - val_mae: 3.3572\n",
      "Epoch 14/100\n",
      "19/19 [==============================] - 0s 2ms/step - loss: 16.8133 - mae: 2.9377 - val_loss: 21.6872 - val_mae: 3.3149\n",
      "Epoch 15/100\n",
      "19/19 [==============================] - 0s 2ms/step - loss: 16.0043 - mae: 2.8635 - val_loss: 20.4767 - val_mae: 3.2024\n",
      "Epoch 16/100\n",
      "19/19 [==============================] - 0s 3ms/step - loss: 15.1682 - mae: 2.7732 - val_loss: 19.8510 - val_mae: 3.1272\n",
      "Epoch 17/100\n",
      "19/19 [==============================] - 0s 2ms/step - loss: 14.4087 - mae: 2.7221 - val_loss: 19.0124 - val_mae: 3.0756\n",
      "Epoch 18/100\n",
      "19/19 [==============================] - 0s 3ms/step - loss: 13.8509 - mae: 2.6707 - val_loss: 18.6858 - val_mae: 3.0420\n",
      "Epoch 19/100\n",
      "19/19 [==============================] - 0s 3ms/step - loss: 13.3946 - mae: 2.6267 - val_loss: 17.9553 - val_mae: 2.9978\n",
      "Epoch 20/100\n",
      "19/19 [==============================] - 0s 3ms/step - loss: 12.8960 - mae: 2.6002 - val_loss: 17.3888 - val_mae: 2.9534\n",
      "Epoch 21/100\n",
      "19/19 [==============================] - 0s 2ms/step - loss: 12.5690 - mae: 2.5513 - val_loss: 17.4416 - val_mae: 2.9850\n",
      "Epoch 22/100\n",
      "19/19 [==============================] - 0s 2ms/step - loss: 12.2881 - mae: 2.5446 - val_loss: 16.5916 - val_mae: 2.8637\n",
      "Epoch 23/100\n",
      "19/19 [==============================] - 0s 3ms/step - loss: 11.9185 - mae: 2.4901 - val_loss: 16.3500 - val_mae: 2.9109\n",
      "Epoch 24/100\n",
      "19/19 [==============================] - 0s 2ms/step - loss: 11.7320 - mae: 2.4862 - val_loss: 15.8386 - val_mae: 2.8456\n",
      "Epoch 25/100\n",
      "19/19 [==============================] - 0s 3ms/step - loss: 11.3672 - mae: 2.4388 - val_loss: 15.8580 - val_mae: 2.8486\n",
      "Epoch 26/100\n",
      "19/19 [==============================] - 0s 3ms/step - loss: 11.4398 - mae: 2.4630 - val_loss: 15.2898 - val_mae: 2.8520\n",
      "Epoch 27/100\n",
      "19/19 [==============================] - 0s 2ms/step - loss: 10.9805 - mae: 2.4012 - val_loss: 15.3712 - val_mae: 2.7858\n",
      "Epoch 28/100\n",
      "19/19 [==============================] - 0s 2ms/step - loss: 10.7305 - mae: 2.3556 - val_loss: 15.0798 - val_mae: 2.7720\n",
      "Epoch 29/100\n",
      "19/19 [==============================] - 0s 2ms/step - loss: 10.5759 - mae: 2.3430 - val_loss: 14.6155 - val_mae: 2.7604\n",
      "Epoch 30/100\n",
      "19/19 [==============================] - 0s 3ms/step - loss: 10.3560 - mae: 2.3350 - val_loss: 14.7493 - val_mae: 2.7607\n",
      "Epoch 31/100\n",
      "19/19 [==============================] - 0s 3ms/step - loss: 10.1947 - mae: 2.2797 - val_loss: 14.7113 - val_mae: 2.7590\n",
      "Epoch 32/100\n",
      "19/19 [==============================] - 0s 3ms/step - loss: 10.0674 - mae: 2.2825 - val_loss: 14.2203 - val_mae: 2.7228\n",
      "Epoch 33/100\n",
      "19/19 [==============================] - 0s 2ms/step - loss: 9.8991 - mae: 2.2855 - val_loss: 14.0560 - val_mae: 2.7264\n",
      "Epoch 34/100\n",
      "19/19 [==============================] - 0s 3ms/step - loss: 9.7132 - mae: 2.2493 - val_loss: 14.0252 - val_mae: 2.7229\n",
      "Epoch 35/100\n",
      "19/19 [==============================] - 0s 2ms/step - loss: 9.5397 - mae: 2.2074 - val_loss: 13.7820 - val_mae: 2.6904\n",
      "Epoch 36/100\n",
      "19/19 [==============================] - 0s 3ms/step - loss: 9.4022 - mae: 2.2208 - val_loss: 13.5773 - val_mae: 2.7059\n",
      "Epoch 37/100\n",
      "19/19 [==============================] - 0s 3ms/step - loss: 9.3694 - mae: 2.1877 - val_loss: 13.8446 - val_mae: 2.6988\n",
      "Epoch 38/100\n",
      "19/19 [==============================] - 0s 3ms/step - loss: 9.3809 - mae: 2.2174 - val_loss: 13.3735 - val_mae: 2.6696\n",
      "Epoch 39/100\n",
      "19/19 [==============================] - 0s 3ms/step - loss: 9.0121 - mae: 2.1586 - val_loss: 13.5238 - val_mae: 2.6907\n",
      "Epoch 40/100\n",
      "19/19 [==============================] - 0s 3ms/step - loss: 8.9030 - mae: 2.1554 - val_loss: 13.1258 - val_mae: 2.6493\n",
      "Epoch 41/100\n",
      "19/19 [==============================] - 0s 3ms/step - loss: 8.7826 - mae: 2.1508 - val_loss: 13.2389 - val_mae: 2.6643\n",
      "Epoch 42/100\n",
      "19/19 [==============================] - 0s 3ms/step - loss: 8.7348 - mae: 2.1219 - val_loss: 13.3287 - val_mae: 2.6731\n",
      "Epoch 43/100\n",
      "19/19 [==============================] - 0s 3ms/step - loss: 8.5570 - mae: 2.0874 - val_loss: 12.9166 - val_mae: 2.6311\n",
      "Epoch 44/100\n",
      "19/19 [==============================] - 0s 3ms/step - loss: 8.5403 - mae: 2.1267 - val_loss: 12.6828 - val_mae: 2.6166\n",
      "Epoch 45/100\n",
      "19/19 [==============================] - 0s 3ms/step - loss: 8.2733 - mae: 2.0740 - val_loss: 12.7953 - val_mae: 2.6209\n",
      "Epoch 46/100\n",
      "19/19 [==============================] - 0s 3ms/step - loss: 8.2504 - mae: 2.0745 - val_loss: 12.5818 - val_mae: 2.6032\n",
      "Epoch 47/100\n",
      "19/19 [==============================] - 0s 3ms/step - loss: 8.1011 - mae: 2.0609 - val_loss: 12.7682 - val_mae: 2.6156\n",
      "Epoch 48/100\n",
      "19/19 [==============================] - 0s 3ms/step - loss: 8.1783 - mae: 2.0157 - val_loss: 12.5469 - val_mae: 2.6024\n",
      "Epoch 49/100\n",
      "19/19 [==============================] - 0s 3ms/step - loss: 8.0762 - mae: 2.0590 - val_loss: 12.3606 - val_mae: 2.5918\n",
      "Epoch 50/100\n",
      "19/19 [==============================] - 0s 2ms/step - loss: 7.7824 - mae: 2.0100 - val_loss: 12.5625 - val_mae: 2.6023\n",
      "Epoch 51/100\n",
      "19/19 [==============================] - 0s 2ms/step - loss: 7.7344 - mae: 2.0005 - val_loss: 12.3766 - val_mae: 2.5750\n",
      "Epoch 52/100\n",
      "19/19 [==============================] - 0s 3ms/step - loss: 7.7018 - mae: 1.9928 - val_loss: 12.2774 - val_mae: 2.5790\n",
      "Epoch 53/100\n",
      "19/19 [==============================] - 0s 2ms/step - loss: 7.5888 - mae: 1.9906 - val_loss: 12.3142 - val_mae: 2.5730\n",
      "Epoch 54/100\n",
      "19/19 [==============================] - 0s 3ms/step - loss: 7.5509 - mae: 1.9548 - val_loss: 12.2999 - val_mae: 2.5579\n"
     ]
    }
   ],
   "source": [
    "# Fit the model:\n",
    "early_stopping = keras.callbacks.EarlyStopping(monitor='val_loss', patience=10,mode='min',min_delta=0.5)\n",
    "\n",
    "history = model.fit(x_tr_rescaled,\n",
    "                    y_tr,\n",
    "                    epochs = 100,\n",
    "                    batch_size = 16,\n",
    "                    validation_data= (x_val_rescaled, y_val),\n",
    "                    callbacks=[early_stopping],\n",
    "                    verbose = 1)"
   ]
  },
  {
   "cell_type": "markdown",
   "metadata": {},
   "source": [
    "Let's plot the training and validation loss"
   ]
  },
  {
   "cell_type": "code",
   "execution_count": 14,
   "metadata": {},
   "outputs": [
    {
     "data": {
      "image/png": "[encoded data removed]",
      "text/plain": [
       "<Figure size 700x300 with 1 Axes>"
      ]
     },
     "metadata": {},
     "output_type": "display_data"
    }
   ],
   "source": [
    "#Plot the training and the validation loss using the training history from the fitted model:\n",
    "loss = history.history[\"loss\"] # retrieve the loss in the training set\n",
    "val_loss = history.history[\"val_loss\"] # retrieve the loss in the validation set\n",
    "epochs = range(1, len(loss)+1)\n",
    "plt.rcParams['figure.figsize']=7,3\n",
    "plt.plot(epochs, loss, color='blue', label = \"Training loss\")#\"bo\",\n",
    "plt.plot(epochs, val_loss, color='orange', label = \"Validation loss\")#\"b\",\n",
    "plt.title(\"Training and validation loss\")\n",
    "plt.xlabel(\"Epochs\")\n",
    "plt.ylabel(\"Loss\")\n",
    "plt.legend()\n",
    "plt.show()"
   ]
  },
  {
   "cell_type": "code",
   "execution_count": 15,
   "metadata": {},
   "outputs": [
    {
     "name": "stdout",
     "output_type": "stream",
     "text": [
      "MSE train set:  7.236645698547363\n",
      "MSE val set: 12.29987621307373 \n",
      "\n",
      "MAE train set:  1.9238202571868896\n",
      "MAE val set:  2.5579428672790527\n"
     ]
    }
   ],
   "source": [
    "results_train = model.evaluate(x_tr_rescaled, y_tr,verbose=0)\n",
    "results_val = model.evaluate(x_val_rescaled, y_val,verbose=0)\n",
    "\n",
    "print('MSE train set: ',results_train[0])\n",
    "print('MSE val set:',results_val[0],'\\n')\n",
    "\n",
    "print('MAE train set: ',results_train[1])\n",
    "print('MAE val set: ',results_val[1])"
   ]
  },
  {
   "cell_type": "markdown",
   "metadata": {},
   "source": [
    "There is a (small) gap in the performance of the model on the train and the validation set in terms of MSE and MAE. When we retrain it on the entire train and validation subset, and test is on the unseen test set, most probably the gap will become bigger!"
   ]
  },
  {
   "cell_type": "code",
   "execution_count": 16,
   "metadata": {},
   "outputs": [],
   "source": [
    "#Save pre-trained weights and use them as the starting point:\n",
    "trained_weights=model.get_weights()"
   ]
  },
  {
   "cell_type": "code",
   "execution_count": 17,
   "metadata": {},
   "outputs": [
    {
     "name": "stdout",
     "output_type": "stream",
     "text": [
      "Subset of already trained weights: \n"
     ]
    },
    {
     "data": {
      "text/plain": [
       "array([ 0.5433012 , -0.57008773, -0.2908468 , -0.01152988, -0.02605528,\n",
       "       -0.06716207, -0.36779675, -0.24171981,  0.0244044 , -0.25519913],\n",
       "      dtype=float32)"
      ]
     },
     "execution_count": 17,
     "metadata": {},
     "output_type": "execute_result"
    }
   ],
   "source": [
    "#Take a look at a subset of your pre-trained weights:\n",
    "print('Subset of already trained weights: ')\n",
    "trained_weights[0][0][:10]"
   ]
  },
  {
   "cell_type": "code",
   "execution_count": 19,
   "metadata": {},
   "outputs": [],
   "source": [
    "#Build the model again:\n",
    "#compile it, train it with train and validation set, and test it:\n",
    "model = keras.Sequential()\n",
    "model.add(layers.Dense(64, activation=\"relu\"))\n",
    "model.add(layers.Dense(64, activation=\"relu\"))\n",
    "model.add(layers.Dense(1))\n",
    "\n",
    "model.compile(optimizer='Adam', \n",
    "    loss='mse', \n",
    "    metrics=['mae'])\n",
    "\n",
    "model.build(input_shape=[None,x_tr_rescaled.shape[1]])"
   ]
  },
  {
   "cell_type": "code",
   "execution_count": 20,
   "metadata": {},
   "outputs": [
    {
     "name": "stdout",
     "output_type": "stream",
     "text": [
      "Subset of newly initialized weights: \n"
     ]
    },
    {
     "data": {
      "text/plain": [
       "array([ 0.26568797,  0.05504641, -0.14378114, -0.05642046, -0.07807741,\n",
       "        0.19555724,  0.00653622,  0.07902321, -0.10416283, -0.02700892],\n",
       "      dtype=float32)"
      ]
     },
     "execution_count": 20,
     "metadata": {},
     "output_type": "execute_result"
    }
   ],
   "source": [
    "print('Subset of newly initialized weights: ')\n",
    "model.get_weights()[0][0][:10]"
   ]
  },
  {
   "cell_type": "code",
   "execution_count": 21,
   "metadata": {},
   "outputs": [],
   "source": [
    "model.set_weights(trained_weights)"
   ]
  },
  {
   "cell_type": "code",
   "execution_count": 22,
   "metadata": {},
   "outputs": [
    {
     "name": "stdout",
     "output_type": "stream",
     "text": [
      "After setting previous weights: \n"
     ]
    },
    {
     "data": {
      "text/plain": [
       "array([ 0.5433012 , -0.57008773, -0.2908468 , -0.01152988, -0.02605528,\n",
       "       -0.06716207, -0.36779675, -0.24171981,  0.0244044 , -0.25519913],\n",
       "      dtype=float32)"
      ]
     },
     "execution_count": 22,
     "metadata": {},
     "output_type": "execute_result"
    }
   ],
   "source": [
    "print('After setting previous weights: ')\n",
    "model.get_weights()[0][0][:10]"
   ]
  },
  {
   "cell_type": "code",
   "execution_count": 23,
   "metadata": {},
   "outputs": [
    {
     "name": "stdout",
     "output_type": "stream",
     "text": [
      "MSE train set:  3.2636451721191406\n",
      "MSE test set: 13.811532974243164 \n",
      "\n",
      "MAE train set:  1.2979215383529663\n",
      "MAE test set:  2.4187893867492676\n"
     ]
    }
   ],
   "source": [
    "x_train_rescaled=(x_train-x_train.mean(axis=0))/x_train.std(axis=0)\n",
    "x_test_rescaled=(x_test-x_train.mean(axis=0))/x_train.std(axis=0)\n",
    "\n",
    "model.fit(x_train_rescaled,\n",
    "                    y_train,\n",
    "                    epochs = 100,\n",
    "                    batch_size = 16,\n",
    "                    callbacks=[keras.callbacks.EarlyStopping(monitor='loss',\n",
    "                                                             patience=10,\n",
    "                                                             mode='min',\n",
    "                                                             min_delta=0.5)],\n",
    "                    verbose = 0)\n",
    "\n",
    "results_train = model.evaluate(x_train_rescaled, y_train,verbose=0)\n",
    "results_test = model.evaluate(x_test_rescaled, y_test,verbose=0)\n",
    "\n",
    "print('MSE train set: ',results_train[0])\n",
    "print('MSE test set:',results_test[0],'\\n')\n",
    "\n",
    "print('MAE train set: ',results_train[1])\n",
    "print('MAE test set: ',results_test[1])\n",
    "\n",
    "\n"
   ]
  },
  {
   "cell_type": "markdown",
   "metadata": {},
   "source": [
    "Based on the results we would need to perform some hyperparameter tuning/check the performance of other model configurations on the validation set to reduce the gap in the performance of the model (Section 6)."
   ]
  },
  {
   "cell_type": "markdown",
   "metadata": {},
   "source": [
    "### 5. Generate predictions on new data\n",
    "The function `predict()` returns the predicted median price of the houses (in $1,000)."
   ]
  },
  {
   "cell_type": "code",
   "execution_count": 24,
   "metadata": {},
   "outputs": [
    {
     "data": {
      "image/png": "[encoded data removed]",
      "text/plain": [
       "<Figure size 700x500 with 1 Axes>"
      ]
     },
     "metadata": {},
     "output_type": "display_data"
    }
   ],
   "source": [
    "#Generate predictions and plot them:\n",
    "predictions = model.predict(x_test_rescaled,verbose=0)\n",
    "\n",
    "# Let's plot the true prices versus the predictions\n",
    "f, ax = plt.subplots(figsize=(7, 5))\n",
    "ax.scatter(predictions, y_test)\n",
    "ax.plot([0, 1], [0, 1], transform=ax.transAxes) # add diagonal as a reference\n",
    "plt.title(\"Prices vs predictions\")\n",
    "plt.xlabel(\"predicted median price\")\n",
    "plt.ylabel(\"true price\")\n",
    "plt.show()\n",
    "plt.close()"
   ]
  },
  {
   "cell_type": "markdown",
   "metadata": {},
   "source": [
    "The predictions of the model are however correlated with the true values of the target variable. But there is stil potential to improve the model."
   ]
  },
  {
   "cell_type": "markdown",
   "metadata": {},
   "source": [
    "### 6. Tuning the model"
   ]
  },
  {
   "cell_type": "markdown",
   "metadata": {},
   "source": [
    "We will tune the following hyperparameters of the model:\n",
    "- reduce the capcity of the model\n",
    "- add regularization penalty to the loss function\n",
    "- increase the learning rate"
   ]
  },
  {
   "cell_type": "code",
   "execution_count": 28,
   "metadata": {},
   "outputs": [
    {
     "name": "stdout",
     "output_type": "stream",
     "text": [
      "MSE train set:  16.22934913635254\n",
      "MSE val set: 17.401315689086914 \n",
      "\n",
      "MAE train set:  2.540011405944824\n",
      "MAE val set:  2.601144552230835\n"
     ]
    }
   ],
   "source": [
    "model = keras.Sequential([layers.Dense(10, activation=\"relu\",kernel_initializer='he_normal',kernel_regularizer=keras.regularizers.L1(l1=0.1)),\n",
    "                          layers.Dense(1)])\n",
    "model.compile(optimizer=keras.optimizers.Adam(learning_rate=0.2),#previously we did not specify the lr,we took the standrad lr=0.001\n",
    "              loss='mse', metrics=['mae'])\n",
    "model.fit(x_tr_rescaled,y_tr,\n",
    "         epochs = 100,batch_size = 16,\n",
    "         validation_data= (x_val_rescaled, y_val),\n",
    "         callbacks=[keras.callbacks.EarlyStopping(monitor='val_loss', patience=10,mode='min',min_delta=0.05)],\n",
    "          verbose = 0)\n",
    "\n",
    "results_train = model.evaluate(x_tr_rescaled, y_tr,verbose=0)\n",
    "results_val = model.evaluate(x_val_rescaled, y_val,verbose=0)\n",
    "\n",
    "print('MSE train set: ',results_train[0])\n",
    "print('MSE val set:',results_val[0],'\\n')\n",
    "\n",
    "print('MAE train set: ',results_train[1])\n",
    "print('MAE val set: ',results_val[1])"
   ]
  },
  {
   "cell_type": "markdown",
   "metadata": {},
   "source": [
    "Once we are done with the hyperparameter tuning, we will again retrain on the entire train and validation set with the best model configuration found during the tuning, and check the performance on the test set."
   ]
  }
 ],
 "metadata": {
  "interpreter": {
   "hash": "071737a5efb5187f1b8a7f5eacd9bb694a30cbbaa4393dd0a3bebb490d9d36dd"
  },
  "kernelspec": {
   "display_name": "Python 3 (ipykernel)",
   "language": "python",
   "name": "python3"
  },
  "language_info": {
   "codemirror_mode": {
    "name": "ipython",
    "version": 3
   },
   "file_extension": ".py",
   "mimetype": "text/x-python",
   "name": "python",
   "nbconvert_exporter": "python",
   "pygments_lexer": "ipython3",
   "version": "3.9.13"
  }
 },
 "nbformat": 4,
 "nbformat_minor": 4
}
